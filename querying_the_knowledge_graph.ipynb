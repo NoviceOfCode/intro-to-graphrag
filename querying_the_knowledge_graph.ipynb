{
 "cells": [
  {
   "cell_type": "markdown",
   "metadata": {},
   "source": [
    "# Querying the Knowledge Graph with Neo4j Cypher\n",
    "\n",
    "Prereqs: \n",
    "    \n",
    "*  The default Movies Neo4j database: Either [Neo4j Desktop](https://neo4j.com/download/) (local instance) or [Aura](https://neo4j.com/product/auradb/) (cloud instance)"
   ]
  },
  {
   "cell_type": "code",
   "metadata": {
    "ExecuteTime": {
     "end_time": "2025-01-03T14:29:23.068904Z",
     "start_time": "2025-01-03T14:29:21.822357Z"
    }
   },
   "source": [
    "from langchain_community.graphs import Neo4jGraph\n",
    "from neo4j import GraphDatabase\n",
    "\n",
    "from importlib import reload\n",
    "import utils\n",
    "\n",
    "import warnings\n",
    "warnings.filterwarnings('ignore')\n",
    "#reload(utils) - this i needed if I do changes to utils.py\n"
   ],
   "outputs": [],
   "execution_count": 1
  },
  {
   "cell_type": "markdown",
   "metadata": {},
   "source": [
    "## What is Cypher?\n",
    "\n",
    "Neo4j Cypher is a query language for the Neo4j graph database. It allows you to create, read, update, and delete nodes and relationships in a graph. Cypher is similar to SQL but designed for graph databases, making it easier to work with graph data. It's designed to express graph patterns."
   ]
  },
  {
   "cell_type": "markdown",
   "metadata": {},
   "source": [
    "### Connect to the Neo4j database \n",
    "Connect to the graph database using the [LangChain Neo4jGraph connector](https://api.python.langchain.com/en/latest/graphs/langchain_community.graphs.neo4j_graph.Neo4jGraph.html)."
   ]
  },
  {
   "cell_type": "code",
   "metadata": {
    "ExecuteTime": {
     "end_time": "2025-01-03T14:29:39.297163Z",
     "start_time": "2025-01-03T14:29:36.507539Z"
    }
   },
   "source": "graph = Neo4jGraph()",
   "outputs": [],
   "execution_count": 2
  },
  {
   "cell_type": "markdown",
   "metadata": {},
   "source": [
    "### Query the graph database"
   ]
  },
  {
   "cell_type": "markdown",
   "metadata": {},
   "source": [
    "Match all nodes in graph"
   ]
  },
  {
   "cell_type": "code",
   "metadata": {
    "ExecuteTime": {
     "end_time": "2025-01-03T14:29:43.750778Z",
     "start_time": "2025-01-03T14:29:43.728780Z"
    }
   },
   "source": [
    "cypher = \"\"\"Match (n) return count(n)\"\"\"\n",
    "\n",
    "result = graph.query(cypher)\n",
    "result"
   ],
   "outputs": [
    {
     "data": {
      "text/plain": [
       "[{'count(n)': 171}]"
      ]
     },
     "execution_count": 3,
     "metadata": {},
     "output_type": "execute_result"
    }
   ],
   "execution_count": 3
  },
  {
   "cell_type": "markdown",
   "metadata": {},
   "source": [
    "Match only the `Movie` nodes using the node label"
   ]
  },
  {
   "cell_type": "code",
   "metadata": {
    "ExecuteTime": {
     "end_time": "2025-01-03T14:33:58.906211Z",
     "start_time": "2025-01-03T14:33:58.866262Z"
    }
   },
   "source": [
    "cypher = \"\"\"\n",
    "MATCH (m:Movie) \n",
    "RETURN count(m) AS numberOfMovies\n",
    "\"\"\"\n",
    "\n",
    "result = graph.query(cypher)\n",
    "result"
   ],
   "outputs": [
    {
     "data": {
      "text/plain": [
       "[{'numberOfMovies': 39}]"
      ]
     },
     "execution_count": 4,
     "metadata": {},
     "output_type": "execute_result"
    }
   ],
   "execution_count": 4
  },
  {
   "cell_type": "markdown",
   "metadata": {},
   "source": [
    "Match only the `Person` nodes using the node label"
   ]
  },
  {
   "cell_type": "code",
   "metadata": {
    "ExecuteTime": {
     "end_time": "2025-01-03T14:34:08.371685Z",
     "start_time": "2025-01-03T14:34:08.340016Z"
    }
   },
   "source": [
    "cypher = \"\"\"\n",
    "MATCH (people:Person) \n",
    "RETURN count(people) AS numberOfPeople\n",
    "\"\"\"\n",
    "\n",
    "result = graph.query(cypher)\n",
    "result"
   ],
   "outputs": [
    {
     "data": {
      "text/plain": [
       "[{'numberOfPeople': 132}]"
      ]
     },
     "execution_count": 5,
     "metadata": {},
     "output_type": "execute_result"
    }
   ],
   "execution_count": 5
  },
  {
   "cell_type": "markdown",
   "metadata": {},
   "source": [
    "Match a single `Person` node using `name` property"
   ]
  },
  {
   "cell_type": "code",
   "metadata": {
    "ExecuteTime": {
     "end_time": "2025-01-03T14:34:26.940958Z",
     "start_time": "2025-01-03T14:34:26.892524Z"
    }
   },
   "source": [
    "cypher = \"\"\"\n",
    "MATCH (tom:Person {name: 'Tom Hanks'})\n",
    "RETURN tom\n",
    "\"\"\"\n",
    "\n",
    "result = graph.query(cypher)\n",
    "result"
   ],
   "outputs": [
    {
     "data": {
      "text/plain": [
       "[{'tom': {'born': 1956, 'name': 'Tom Hanks'}}]"
      ]
     },
     "execution_count": 6,
     "metadata": {},
     "output_type": "execute_result"
    }
   ],
   "execution_count": 6
  },
  {
   "cell_type": "markdown",
   "metadata": {},
   "source": [
    "Match a single `Movie` node using `title` property"
   ]
  },
  {
   "cell_type": "code",
   "metadata": {
    "ExecuteTime": {
     "end_time": "2025-01-03T14:34:31.069298Z",
     "start_time": "2025-01-03T14:34:31.028730Z"
    }
   },
   "source": [
    "cypher = \"\"\"\n",
    "MATCH (apollo13:Movie {title: 'Apollo 13'})\n",
    "RETURN apollo13\n",
    "\"\"\"\n",
    "\n",
    "result = graph.query(cypher)\n",
    "result"
   ],
   "outputs": [
    {
     "data": {
      "text/plain": [
       "[{'apollo13': {'tagline': 'Houston, we have a problem.',\n",
       "   'title': 'Apollo 13',\n",
       "   'released': 1995}}]"
      ]
     },
     "execution_count": 7,
     "metadata": {},
     "output_type": "execute_result"
    }
   ],
   "execution_count": 7
  },
  {
   "cell_type": "markdown",
   "metadata": {},
   "source": [
    "Match movies released in the 1990s and return their titles."
   ]
  },
  {
   "cell_type": "code",
   "metadata": {
    "ExecuteTime": {
     "end_time": "2025-01-03T14:34:53.354690Z",
     "start_time": "2025-01-03T14:34:53.293404Z"
    }
   },
   "source": [
    "cypher = \"\"\"\n",
    "MATCH (nineties:Movie) \n",
    "WHERE nineties.released >= 1990 AND nineties.released < 2000 \n",
    "RETURN nineties.title\n",
    "\"\"\"\n",
    "\n",
    "result = graph.query(cypher)\n",
    "result"
   ],
   "outputs": [
    {
     "data": {
      "text/plain": [
       "[{'nineties.title': 'The Matrix'},\n",
       " {'nineties.title': \"The Devil's Advocate\"},\n",
       " {'nineties.title': 'A Few Good Men'},\n",
       " {'nineties.title': 'As Good as It Gets'},\n",
       " {'nineties.title': 'What Dreams May Come'},\n",
       " {'nineties.title': 'Snow Falling on Cedars'},\n",
       " {'nineties.title': \"You've Got Mail\"},\n",
       " {'nineties.title': 'Sleepless in Seattle'},\n",
       " {'nineties.title': 'Joe Versus the Volcano'},\n",
       " {'nineties.title': 'When Harry Met Sally'},\n",
       " {'nineties.title': 'That Thing You Do'},\n",
       " {'nineties.title': 'The Birdcage'},\n",
       " {'nineties.title': 'Unforgiven'},\n",
       " {'nineties.title': 'Johnny Mnemonic'},\n",
       " {'nineties.title': 'The Green Mile'},\n",
       " {'nineties.title': 'Hoffa'},\n",
       " {'nineties.title': 'Apollo 13'},\n",
       " {'nineties.title': 'Twister'},\n",
       " {'nineties.title': 'Bicentennial Man'},\n",
       " {'nineties.title': 'A League of Their Own'}]"
      ]
     },
     "execution_count": 8,
     "metadata": {},
     "output_type": "execute_result"
    }
   ],
   "execution_count": 8
  },
  {
   "cell_type": "markdown",
   "metadata": {},
   "source": [
    "Match all `Person`s who have co-acted with Tom Hanks in any `Movie`"
   ]
  },
  {
   "cell_type": "code",
   "metadata": {
    "ExecuteTime": {
     "end_time": "2025-01-03T14:35:57.611661Z",
     "start_time": "2025-01-03T14:35:57.498953Z"
    }
   },
   "source": [
    "cypher = \"\"\"\n",
    "MATCH (tom:Person {name: \"Tom Hanks\"})-[:ACTED_IN]->(m:Movie)<-[:ACTED_IN]-(p:Person) \n",
    "RETURN p.name, m.title\n",
    "\"\"\"\n",
    "\n",
    "result = graph.query(cypher)\n",
    "result"
   ],
   "outputs": [
    {
     "data": {
      "text/plain": [
       "[{'p.name': 'Meg Ryan', 'm.title': \"You've Got Mail\"},\n",
       " {'p.name': 'Greg Kinnear', 'm.title': \"You've Got Mail\"},\n",
       " {'p.name': 'Parker Posey', 'm.title': \"You've Got Mail\"},\n",
       " {'p.name': 'Dave Chappelle', 'm.title': \"You've Got Mail\"},\n",
       " {'p.name': 'Steve Zahn', 'm.title': \"You've Got Mail\"},\n",
       " {'p.name': 'Meg Ryan', 'm.title': 'Sleepless in Seattle'},\n",
       " {'p.name': 'Rita Wilson', 'm.title': 'Sleepless in Seattle'},\n",
       " {'p.name': 'Bill Pullman', 'm.title': 'Sleepless in Seattle'},\n",
       " {'p.name': 'Victor Garber', 'm.title': 'Sleepless in Seattle'},\n",
       " {'p.name': \"Rosie O'Donnell\", 'm.title': 'Sleepless in Seattle'},\n",
       " {'p.name': 'Meg Ryan', 'm.title': 'Joe Versus the Volcano'},\n",
       " {'p.name': 'Nathan Lane', 'm.title': 'Joe Versus the Volcano'},\n",
       " {'p.name': 'Charlize Theron', 'm.title': 'That Thing You Do'},\n",
       " {'p.name': 'Liv Tyler', 'm.title': 'That Thing You Do'},\n",
       " {'p.name': 'Hugo Weaving', 'm.title': 'Cloud Atlas'},\n",
       " {'p.name': 'Halle Berry', 'm.title': 'Cloud Atlas'},\n",
       " {'p.name': 'Jim Broadbent', 'm.title': 'Cloud Atlas'},\n",
       " {'p.name': 'Ian McKellen', 'm.title': 'The Da Vinci Code'},\n",
       " {'p.name': 'Audrey Tautou', 'm.title': 'The Da Vinci Code'},\n",
       " {'p.name': 'Paul Bettany', 'm.title': 'The Da Vinci Code'},\n",
       " {'p.name': 'Bonnie Hunt', 'm.title': 'The Green Mile'},\n",
       " {'p.name': 'James Cromwell', 'm.title': 'The Green Mile'},\n",
       " {'p.name': 'Michael Clarke Duncan', 'm.title': 'The Green Mile'},\n",
       " {'p.name': 'David Morse', 'm.title': 'The Green Mile'},\n",
       " {'p.name': 'Sam Rockwell', 'm.title': 'The Green Mile'},\n",
       " {'p.name': 'Gary Sinise', 'm.title': 'The Green Mile'},\n",
       " {'p.name': 'Patricia Clarkson', 'm.title': 'The Green Mile'},\n",
       " {'p.name': 'Kevin Bacon', 'm.title': 'Apollo 13'},\n",
       " {'p.name': 'Gary Sinise', 'm.title': 'Apollo 13'},\n",
       " {'p.name': 'Ed Harris', 'm.title': 'Apollo 13'},\n",
       " {'p.name': 'Bill Paxton', 'm.title': 'Apollo 13'},\n",
       " {'p.name': 'Helen Hunt', 'm.title': 'Cast Away'},\n",
       " {'p.name': 'Philip Seymour Hoffman', 'm.title': \"Charlie Wilson's War\"},\n",
       " {'p.name': 'Julia Roberts', 'm.title': \"Charlie Wilson's War\"},\n",
       " {'p.name': \"Rosie O'Donnell\", 'm.title': 'A League of Their Own'},\n",
       " {'p.name': 'Bill Paxton', 'm.title': 'A League of Their Own'},\n",
       " {'p.name': 'Madonna', 'm.title': 'A League of Their Own'},\n",
       " {'p.name': 'Geena Davis', 'm.title': 'A League of Their Own'},\n",
       " {'p.name': 'Lori Petty', 'm.title': 'A League of Their Own'}]"
      ]
     },
     "execution_count": 9,
     "metadata": {},
     "output_type": "execute_result"
    }
   ],
   "execution_count": 9
  },
  {
   "cell_type": "markdown",
   "metadata": {},
   "source": [
    "Match `Movie`s and `Actor`s that are 3 hops away from Kevin Bacon. (From [Neo4j graph examples - movies](https://github.com/neo4j-graph-examples/movies))"
   ]
  },
  {
   "cell_type": "code",
   "metadata": {
    "ExecuteTime": {
     "end_time": "2025-01-03T14:36:42.687221Z",
     "start_time": "2025-01-03T14:36:42.563182Z"
    }
   },
   "source": [
    "cypher = \"\"\"\n",
    "MATCH (p:Person {name: 'Kevin Bacon'})-[*1..3]-(hollywood) \n",
    "RETURN DISTINCT p, hollywood\n",
    "\"\"\"\n",
    "\n",
    "result = graph.query(cypher)\n",
    "result\n"
   ],
   "outputs": [
    {
     "data": {
      "text/plain": [
       "[{'p': {'born': 1958, 'name': 'Kevin Bacon'},\n",
       "  'hollywood': {'tagline': \"In the heart of the nation's capital, in a courthouse of the U.S. government, one man will stop at nothing to keep his honor, and one will stop at nothing to find the truth.\",\n",
       "   'title': 'A Few Good Men',\n",
       "   'released': 1992}},\n",
       " {'p': {'born': 1958, 'name': 'Kevin Bacon'},\n",
       "  'hollywood': {'tagline': '400 million people were waiting for the truth.',\n",
       "   'title': 'Frost/Nixon',\n",
       "   'released': 2008}},\n",
       " {'p': {'born': 1958, 'name': 'Kevin Bacon'},\n",
       "  'hollywood': {'tagline': 'Houston, we have a problem.',\n",
       "   'title': 'Apollo 13',\n",
       "   'released': 1995}},\n",
       " {'p': {'born': 1958, 'name': 'Kevin Bacon'},\n",
       "  'hollywood': {'born': 1962, 'name': 'Tom Cruise'}},\n",
       " {'p': {'born': 1958, 'name': 'Kevin Bacon'},\n",
       "  'hollywood': {'born': 1937, 'name': 'Jack Nicholson'}},\n",
       " {'p': {'born': 1958, 'name': 'Kevin Bacon'},\n",
       "  'hollywood': {'born': 1962, 'name': 'Demi Moore'}},\n",
       " {'p': {'born': 1958, 'name': 'Kevin Bacon'},\n",
       "  'hollywood': {'born': 1966, 'name': 'Kiefer Sutherland'}},\n",
       " {'p': {'born': 1958, 'name': 'Kevin Bacon'},\n",
       "  'hollywood': {'born': 1971, 'name': 'Noah Wyle'}},\n",
       " {'p': {'born': 1958, 'name': 'Kevin Bacon'},\n",
       "  'hollywood': {'born': 1968, 'name': 'Cuba Gooding Jr.'}},\n",
       " {'p': {'born': 1958, 'name': 'Kevin Bacon'},\n",
       "  'hollywood': {'born': 1957, 'name': 'Kevin Pollak'}},\n",
       " {'p': {'born': 1958, 'name': 'Kevin Bacon'},\n",
       "  'hollywood': {'born': 1943, 'name': 'J.T. Walsh'}},\n",
       " {'p': {'born': 1958, 'name': 'Kevin Bacon'},\n",
       "  'hollywood': {'born': 1967, 'name': 'James Marshall'}},\n",
       " {'p': {'born': 1958, 'name': 'Kevin Bacon'},\n",
       "  'hollywood': {'born': 1948, 'name': 'Christopher Guest'}},\n",
       " {'p': {'born': 1958, 'name': 'Kevin Bacon'},\n",
       "  'hollywood': {'born': 1961, 'name': 'Aaron Sorkin'}},\n",
       " {'p': {'born': 1958, 'name': 'Kevin Bacon'},\n",
       "  'hollywood': {'born': 1947, 'name': 'Rob Reiner'}},\n",
       " {'p': {'born': 1958, 'name': 'Kevin Bacon'},\n",
       "  'hollywood': {'born': 1956, 'name': 'Tom Hanks'}},\n",
       " {'p': {'born': 1958, 'name': 'Kevin Bacon'},\n",
       "  'hollywood': {'born': 1955, 'name': 'Gary Sinise'}},\n",
       " {'p': {'born': 1958, 'name': 'Kevin Bacon'},\n",
       "  'hollywood': {'born': 1950, 'name': 'Ed Harris'}},\n",
       " {'p': {'born': 1958, 'name': 'Kevin Bacon'},\n",
       "  'hollywood': {'born': 1955, 'name': 'Bill Paxton'}},\n",
       " {'p': {'born': 1958, 'name': 'Kevin Bacon'},\n",
       "  'hollywood': {'born': 1954, 'name': 'Ron Howard'}},\n",
       " {'p': {'born': 1958, 'name': 'Kevin Bacon'},\n",
       "  'hollywood': {'born': 1968, 'name': 'Sam Rockwell'}},\n",
       " {'p': {'born': 1958, 'name': 'Kevin Bacon'},\n",
       "  'hollywood': {'born': 1938, 'name': 'Frank Langella'}},\n",
       " {'p': {'born': 1958, 'name': 'Kevin Bacon'},\n",
       "  'hollywood': {'born': 1969, 'name': 'Michael Sheen'}},\n",
       " {'p': {'born': 1958, 'name': 'Kevin Bacon'},\n",
       "  'hollywood': {'born': 1960, 'name': 'Oliver Platt'}},\n",
       " {'p': {'born': 1958, 'name': 'Kevin Bacon'},\n",
       "  'hollywood': {'tagline': 'I feel the need, the need for speed.',\n",
       "   'title': 'Top Gun',\n",
       "   'released': 1986}},\n",
       " {'p': {'born': 1958, 'name': 'Kevin Bacon'},\n",
       "  'hollywood': {'tagline': 'The rest of his life begins now.',\n",
       "   'title': 'Jerry Maguire',\n",
       "   'released': 2000}},\n",
       " {'p': {'born': 1958, 'name': 'Kevin Bacon'},\n",
       "  'hollywood': {'tagline': 'A comedy from the heart that goes for the throat.',\n",
       "   'title': 'As Good as It Gets',\n",
       "   'released': 1997}},\n",
       " {'p': {'born': 1958, 'name': 'Kevin Bacon'},\n",
       "  'hollywood': {'tagline': \"He didn't want law. He wanted justice.\",\n",
       "   'title': 'Hoffa',\n",
       "   'released': 1992}},\n",
       " {'p': {'born': 1958, 'name': 'Kevin Bacon'},\n",
       "  'hollywood': {'tagline': \"If he's crazy, what does that make you?\",\n",
       "   'title': \"One Flew Over the Cuckoo's Nest\",\n",
       "   'released': 1975}},\n",
       " {'p': {'born': 1958, 'name': 'Kevin Bacon'},\n",
       "  'hollywood': {'title': \"Something's Gotta Give\", 'released': 2003}},\n",
       " {'p': {'born': 1958, 'name': 'Kevin Bacon'},\n",
       "  'hollywood': {'tagline': \"For some, it's the last real taste of innocence, and the first real taste of life. But for everyone, it's the time that memories are made of.\",\n",
       "   'title': 'Stand By Me',\n",
       "   'released': 1986}},\n",
       " {'p': {'born': 1958, 'name': 'Kevin Bacon'},\n",
       "  'hollywood': {'tagline': 'After life there is more. The end is just the beginning.',\n",
       "   'title': 'What Dreams May Come',\n",
       "   'released': 1998}},\n",
       " {'p': {'born': 1958, 'name': 'Kevin Bacon'},\n",
       "  'hollywood': {'tagline': 'Freedom! Forever!',\n",
       "   'title': 'V for Vendetta',\n",
       "   'released': 2006}},\n",
       " {'p': {'born': 1958, 'name': 'Kevin Bacon'},\n",
       "  'hollywood': {'tagline': 'Prepare to enter a secret world of assassins',\n",
       "   'title': 'Ninja Assassin',\n",
       "   'released': 2009}},\n",
       " {'p': {'born': 1958, 'name': 'Kevin Bacon'},\n",
       "  'hollywood': {'tagline': 'At odds in life... in love on-line.',\n",
       "   'title': 'When Harry Met Sally',\n",
       "   'released': 1998}},\n",
       " {'p': {'born': 1958, 'name': 'Kevin Bacon'},\n",
       "  'hollywood': {'tagline': \"Walk a mile you'll never forget.\",\n",
       "   'title': 'The Green Mile',\n",
       "   'released': 1999}},\n",
       " {'p': {'born': 1958, 'name': 'Kevin Bacon'},\n",
       "  'hollywood': {'tagline': 'Break The Codes',\n",
       "   'title': 'The Da Vinci Code',\n",
       "   'released': 2006}},\n",
       " {'p': {'born': 1958, 'name': 'Kevin Bacon'},\n",
       "  'hollywood': {'tagline': 'At odds in life... in love on-line.',\n",
       "   'title': \"You've Got Mail\",\n",
       "   'released': 1998}},\n",
       " {'p': {'born': 1958, 'name': 'Kevin Bacon'},\n",
       "  'hollywood': {'tagline': 'What if someone you never met, someone you never saw, someone you never knew was the only someone for you?',\n",
       "   'title': 'Sleepless in Seattle',\n",
       "   'released': 1993}},\n",
       " {'p': {'born': 1958, 'name': 'Kevin Bacon'},\n",
       "  'hollywood': {'tagline': 'A story of love, lava and burning desire.',\n",
       "   'title': 'Joe Versus the Volcano',\n",
       "   'released': 1990}},\n",
       " {'p': {'born': 1958, 'name': 'Kevin Bacon'},\n",
       "  'hollywood': {'tagline': 'In every life there comes a time when that thing you dream becomes that thing you do',\n",
       "   'title': 'That Thing You Do',\n",
       "   'released': 1996}},\n",
       " {'p': {'born': 1958, 'name': 'Kevin Bacon'},\n",
       "  'hollywood': {'tagline': 'Everything is connected',\n",
       "   'title': 'Cloud Atlas',\n",
       "   'released': 2012}},\n",
       " {'p': {'born': 1958, 'name': 'Kevin Bacon'},\n",
       "  'hollywood': {'tagline': 'At the edge of the world, his journey begins.',\n",
       "   'title': 'Cast Away',\n",
       "   'released': 2000}},\n",
       " {'p': {'born': 1958, 'name': 'Kevin Bacon'},\n",
       "  'hollywood': {'tagline': \"A stiff drink. A little mascara. A lot of nerve. Who said they couldn't bring down the Soviet empire.\",\n",
       "   'title': \"Charlie Wilson's War\",\n",
       "   'released': 2007}},\n",
       " {'p': {'born': 1958, 'name': 'Kevin Bacon'},\n",
       "  'hollywood': {'tagline': 'This Holiday Season… Believe',\n",
       "   'title': 'The Polar Express',\n",
       "   'released': 2004}},\n",
       " {'p': {'born': 1958, 'name': 'Kevin Bacon'},\n",
       "  'hollywood': {'tagline': 'Once in a lifetime you get a chance to do something different.',\n",
       "   'title': 'A League of Their Own',\n",
       "   'released': 1992}},\n",
       " {'p': {'born': 1958, 'name': 'Kevin Bacon'},\n",
       "  'hollywood': {'tagline': \"One robot's 200 year journey to become an ordinary man.\",\n",
       "   'title': 'Bicentennial Man',\n",
       "   'released': 1999}},\n",
       " {'p': {'born': 1958, 'name': 'Kevin Bacon'},\n",
       "  'hollywood': {'tagline': \"Don't Breathe. Don't Look Back.\",\n",
       "   'title': 'Twister',\n",
       "   'released': 1996}}]"
      ]
     },
     "execution_count": 10,
     "metadata": {},
     "output_type": "execute_result"
    }
   ],
   "execution_count": 10
  },
  {
   "metadata": {},
   "cell_type": "code",
   "outputs": [],
   "execution_count": null,
   "source": ""
  }
 ],
 "metadata": {
  "kernelspec": {
   "display_name": "Python 3",
   "language": "python",
   "name": "python3"
  },
  "language_info": {
   "codemirror_mode": {
    "name": "ipython",
    "version": 3
   },
   "file_extension": ".py",
   "mimetype": "text/x-python",
   "name": "python",
   "nbconvert_exporter": "python",
   "pygments_lexer": "ipython3",
   "version": "3.12.5"
  }
 },
 "nbformat": 4,
 "nbformat_minor": 2
}
