{
 "cells": [
  {
   "cell_type": "markdown",
   "metadata": {},
   "source": [
    "# Querying the Knowledge Graph with Neo4j Cypher\n",
    "\n",
    "Prereqs: \n",
    "    \n",
    "*  The default Movies Neo4j database: Either [Neo4j Desktop](https://neo4j.com/download/) (local instance) or [Aura](https://neo4j.com/product/auradb/) (cloud instance)"
   ]
  },
  {
   "cell_type": "code",
   "metadata": {
    "ExecuteTime": {
     "end_time": "2025-01-03T05:00:11.589502Z",
     "start_time": "2025-01-03T05:00:10.635927Z"
    }
   },
   "source": [
    "from langchain_community.graphs import Neo4jGraph\n",
    "from neo4j import GraphDatabase\n",
    "\n",
    "from importlib import reload\n",
    "import utils\n",
    "\n",
    "import warnings\n",
    "warnings.filterwarnings('ignore')\n",
    "#reload(utils)\n"
   ],
   "outputs": [],
   "execution_count": 1
  },
  {
   "cell_type": "markdown",
   "metadata": {},
   "source": [
    "## What is Cypher?\n",
    "\n",
    "Neo4j Cypher is a query language for the Neo4j graph database. It allows you to create, read, update, and delete nodes and relationships in a graph. Cypher is similar to SQL but designed for graph databases, making it easier to work with graph data. It's designed to express graph patterns."
   ]
  },
  {
   "cell_type": "markdown",
   "metadata": {},
   "source": [
    "### Connect to the Neo4j database \n",
    "Connect to the graph database using the [LangChain Neo4jGraph connector](https://api.python.langchain.com/en/latest/graphs/langchain_community.graphs.neo4j_graph.Neo4jGraph.html)."
   ]
  },
  {
   "cell_type": "code",
   "metadata": {
    "ExecuteTime": {
     "end_time": "2025-01-03T05:00:16.769229Z",
     "start_time": "2025-01-03T05:00:14.391034Z"
    }
   },
   "source": [
    "from langchain_community.graphs import Neo4jGraph\n",
    "import utils\n",
    "\n",
    "# try:\n",
    "#     # Get the Neo4j connection details from environment variables\n",
    "#     uri = utils.get_neo4j_uri()\n",
    "#     username = utils.get_neo4j_username()\n",
    "#     password = utils.get_neo4j_password()\n",
    "#     print(username)\n",
    "#     print(password)\n",
    "# \n",
    "#     # Create the Neo4jGraph instance directly\n",
    "#     graph = Neo4jGraph(url=uri, username=username, password=password)\n",
    "# \n",
    "#     # Get openai client\n",
    "# \n",
    "#     print(\"Successfully connected to Neo4j!\")\n",
    "# \n",
    "# except ValueError as e:\n",
    "#     print(f\"Error: {e}\")\n",
    "# except Exception as e:\n",
    "#     print(f\"An unexpected error occurred: {e}\")\n",
    "graph = Neo4jGraph()"
   ],
   "outputs": [],
   "execution_count": 2
  },
  {
   "cell_type": "markdown",
   "metadata": {},
   "source": [
    "### Query the graph database"
   ]
  },
  {
   "cell_type": "markdown",
   "metadata": {},
   "source": [
    "Match all nodes in graph"
   ]
  },
  {
   "cell_type": "code",
   "metadata": {
    "ExecuteTime": {
     "end_time": "2024-12-26T18:40:14.867142Z",
     "start_time": "2024-12-26T18:40:14.853651Z"
    }
   },
   "source": [
    "cypher = \"\"\"Match (n) return count(n)\"\"\"\n",
    "\n",
    "result = graph.query(cypher)\n",
    "result"
   ],
   "outputs": [
    {
     "ename": "NameError",
     "evalue": "name 'graph' is not defined",
     "output_type": "error",
     "traceback": [
      "\u001B[1;31m---------------------------------------------------------------------------\u001B[0m",
      "\u001B[1;31mNameError\u001B[0m                                 Traceback (most recent call last)",
      "Cell \u001B[1;32mIn[3], line 3\u001B[0m\n\u001B[0;32m      1\u001B[0m cypher \u001B[38;5;241m=\u001B[39m \u001B[38;5;124m\"\"\"\u001B[39m\u001B[38;5;124mMatch (n) return count(n)\u001B[39m\u001B[38;5;124m\"\"\"\u001B[39m\n\u001B[1;32m----> 3\u001B[0m result \u001B[38;5;241m=\u001B[39m \u001B[43mgraph\u001B[49m\u001B[38;5;241m.\u001B[39mquery(cypher)\n\u001B[0;32m      4\u001B[0m result\n",
      "\u001B[1;31mNameError\u001B[0m: name 'graph' is not defined"
     ]
    }
   ],
   "execution_count": 3
  },
  {
   "cell_type": "markdown",
   "metadata": {},
   "source": [
    "Match only the `Movie` nodes using the node label"
   ]
  },
  {
   "cell_type": "code",
   "execution_count": null,
   "metadata": {},
   "outputs": [],
   "source": [
    "cypher = \"\"\"\n",
    "MATCH (m:Movie) \n",
    "RETURN count(m) AS numberOfMovies\n",
    "\"\"\"\n",
    "\n",
    "result = graph.query(cypher)\n",
    "result"
   ]
  },
  {
   "cell_type": "markdown",
   "metadata": {},
   "source": [
    "Match only the `Person` nodes using the node label"
   ]
  },
  {
   "cell_type": "code",
   "execution_count": null,
   "metadata": {},
   "outputs": [],
   "source": [
    "cypher = \"\"\"\n",
    "MATCH (people:Person) \n",
    "RETURN count(people) AS numberOfPeople\n",
    "\"\"\"\n",
    "\n",
    "result = graph.query(cypher)\n",
    "result"
   ]
  },
  {
   "cell_type": "markdown",
   "metadata": {},
   "source": [
    "Match a single `Person` node using `name` property"
   ]
  },
  {
   "cell_type": "code",
   "execution_count": null,
   "metadata": {},
   "outputs": [],
   "source": [
    "cypher = \"\"\"\n",
    "MATCH (tom:Person {name: 'Tom Hanks'})\n",
    "RETURN tom\n",
    "\"\"\"\n",
    "\n",
    "result = graph.query(cypher)\n",
    "result"
   ]
  },
  {
   "cell_type": "markdown",
   "metadata": {},
   "source": [
    "Match a single `Movie` node using `title` property"
   ]
  },
  {
   "cell_type": "code",
   "execution_count": 10,
   "metadata": {},
   "outputs": [
    {
     "data": {
      "text/plain": [
       "[{'apollo13': {'tagline': 'Houston, we have a problem.',\n",
       "   'title': 'Apollo 13',\n",
       "   'released': 1995}}]"
      ]
     },
     "execution_count": 10,
     "metadata": {},
     "output_type": "execute_result"
    }
   ],
   "source": [
    "cypher = \"\"\"\n",
    "MATCH (apollo13:Movie {title: 'Apollo 13'})\n",
    "RETURN apollo13\n",
    "\"\"\"\n",
    "\n",
    "result = graph.query(cypher)\n",
    "result"
   ]
  },
  {
   "cell_type": "markdown",
   "metadata": {},
   "source": [
    "Match movies released in the 1990s and return their titles."
   ]
  },
  {
   "cell_type": "code",
   "execution_count": null,
   "metadata": {},
   "outputs": [],
   "source": [
    "cypher = \"\"\"\n",
    "MATCH (nineties:Movie) \n",
    "WHERE nineties.released >= 1990 AND nineties.released < 2000 \n",
    "RETURN nineties.title\n",
    "\"\"\"\n",
    "\n",
    "result = graph.query(cypher)\n",
    "result"
   ]
  },
  {
   "cell_type": "markdown",
   "metadata": {},
   "source": [
    "Match all `Person`s who have co-acted with Tom Hanks in any `Movie`"
   ]
  },
  {
   "cell_type": "code",
   "execution_count": null,
   "metadata": {},
   "outputs": [],
   "source": [
    "cypher = \"\"\"\n",
    "MATCH (tom:Person {name: \"Tom Hanks\"})-[:ACTED_IN]->(m:Movie)<-[:ACTED_IN]-(p:Person) \n",
    "RETURN p.name, m.title\n",
    "\"\"\"\n",
    "\n",
    "result = graph.query(cypher)\n",
    "result"
   ]
  },
  {
   "cell_type": "markdown",
   "metadata": {},
   "source": [
    "Match `Movie`s and `Actor`s that are 3 hops away from Kevin Bacon. (From [Neo4j graph examples - movies](https://github.com/neo4j-graph-examples/movies))"
   ]
  },
  {
   "cell_type": "code",
   "execution_count": null,
   "metadata": {},
   "outputs": [],
   "source": [
    "cypher = \"\"\"\n",
    "MATCH (p:Person {name: 'Kevin Bacon'})-[*1..3]-(hollywood) \n",
    "RETURN DISTINCT p, hollywood\n",
    "\"\"\"\n",
    "\n",
    "result = graph.query(cypher)\n",
    "result\n"
   ]
  }
 ],
 "metadata": {
  "kernelspec": {
   "display_name": "Python 3",
   "language": "python",
   "name": "python3"
  },
  "language_info": {
   "codemirror_mode": {
    "name": "ipython",
    "version": 3
   },
   "file_extension": ".py",
   "mimetype": "text/x-python",
   "name": "python",
   "nbconvert_exporter": "python",
   "pygments_lexer": "ipython3",
   "version": "3.12.5"
  }
 },
 "nbformat": 4,
 "nbformat_minor": 2
}
